{
  "nbformat": 4,
  "nbformat_minor": 0,
  "metadata": {
    "colab": {
      "provenance": []
    },
    "kernelspec": {
      "name": "python3",
      "display_name": "Python 3"
    },
    "language_info": {
      "name": "python"
    }
  },
  "cells": [
    {
      "cell_type": "code",
      "execution_count": null,
      "metadata": {
        "id": "B3z0BIhYLu9e"
      },
      "outputs": [],
      "source": []
    },
    {
      "cell_type": "markdown",
      "source": [
        "1. Explain the main components of client-server architecture and their functions.\n",
        "   \n",
        "   The main components of client-server architecture are:\n",
        "\n",
        "  --> CLIENT:\n",
        "            > Client software is often designed for user interaction.\n",
        "            > Client typically rely on the server to provide data and services.\n",
        "            \n",
        "     Function:\n",
        "            > It's responsible for presenting the user interface, allowing users to interact with the application and send requests to the server.\n",
        "            > It receives and displays the responses from the server.\n",
        "\n",
        " --> SERVER:\n",
        "            > Server software is designed for efficient resource management and service delivery.\n",
        "            > It is capable of handling multiple client requests.\n",
        "     Function:\n",
        "            > It receives and process request from clients.\n",
        "            > It retrieves the requested data.\n",
        "            > It sends response back to the client.\n",
        "\n",
        "  --> NETWORK:\n",
        "            > The Client - Server architecture relies over the performance of Network.\n",
        "            > Various network protocol is been used; IP/TCP, HTTP, HTTPS, etc.,\n",
        "      Function:\n",
        "            > It enables the transmission of requests and responses between clients and servers.\n",
        "            > The network can be Local Area Network(LAN), Wide Area Network(WAN) or internet."
      ],
      "metadata": {
        "id": "OTE0PfPpMsO-"
      }
    },
    {
      "cell_type": "markdown",
      "source": [
        "2. Discuss the various career paths available after completing a web development course?\n",
        "\n",
        "     Career path after web development are:\n",
        "     \n",
        "     --> Front-End developer:\n",
        "            > Focuses on the user interface and user experience (UI/UX) of websites and web applications.\n",
        "            > Uses HTML, CSS, Javascript to create interactive and visual appealing webpages.\n",
        "     --> Back-End Developer:\n",
        "            > Responsible for creating the functionalities that the user interacts on the front-end.\n",
        "            > Handles Server-side logic, databases, and APIs.\n",
        "     --> Full-Stack Developer:\n",
        "            > Skilled on both Front-end and Back-end Development.\n",
        "            > Handles all aspects of web development from designing the UI to managing the Server.\n",
        "     --> Web Designer:\n",
        "            > Specializes in design and layout of websites.\n",
        "            > Uses design tools like Adobe photoshop, Figma.\n",
        "     --> Web Administrator:\n",
        "            > Manages web servers and ensures website performance and security."
      ],
      "metadata": {
        "id": "NOOesxv5u5k0"
      }
    },
    {
      "cell_type": "markdown",
      "source": [
        "3. Describe the role of a web browser's developer tools in web development?\n",
        "\n",
        "   The role of a web browser's developer tools in web development are:\n",
        "   \n",
        "   --> Inspecting Elements:\n",
        "          > It allows developers to access HTML Structure and CSS Styles.\n",
        "          > It Helps to identify layout issues and styling problems\n",
        "          > Enables real-time editing.\n",
        "   --> Debugging javascript:\n",
        "          > Provides a console for viewing JavaScript errors and warnings.\n",
        "          > It allow developers to set breakpoints and step through code execution.\n",
        "          > Debugging and Troubleshooting of javascript functionality.\n",
        "   --> Network Analysis:\n",
        "          > Displays information about network request and responses.\n",
        "          > Shows details about HTTP header, Request method and response time.\n",
        "          > It helps to identify slow-loading resources and optimize website performance.\n",
        "   --> Performance Monitoring:\n",
        "          > It provide tools for measuring website performance, such as load time and rendering speed.\n",
        "          > Helps identify performance bottlenecks and optimize the code for faster loading.\n",
        "   --> Storage Inspection:\n",
        "          > Allow developers to see the contents of local storage,cookies and indexed database.\n",
        "          > Issues related client-side data storage can be solved.\n",
        "          "
      ],
      "metadata": {
        "id": "qRf9dbqF7LAo"
      }
    },
    {
      "cell_type": "markdown",
      "source": [
        "4. What are the advantages using a version control system like Git in Development project?\n",
        "  \n",
        "  Git, a popular version control system, offers numerous advantage for Development project:\n",
        "  \n",
        "  --> Collaboration:\n",
        "         > It enables multiple developers to work on the same project simultaneously without conflicts.\n",
        "         > Facilitates code sharing and merging.\n",
        "  --> Version History:\n",
        "         > It provides a detailed history of code modifications.\n",
        "         > Makes finding bugs easier.\n",
        "  --> Branching and Merging:\n",
        "         > Allows developers to create separate branches for different features or bug fixes.\n",
        "         > Allows for experimentation without effecting the main codebase.\n",
        "  --> Code backup and recovery:\n",
        "         > Provides a reliable backup of the codebase.\n",
        "         > Enables easy recovery of loss or corrupted files.\n",
        "  --> Automation:\n",
        "         > Git can be integrated into automated build and deployment processes.\n",
        "         > This streamlines the development worklflow."
      ],
      "metadata": {
        "id": "iPxt0--cZt9x"
      }
    },
    {
      "cell_type": "markdown",
      "source": [
        "5. Compare and contrast a text editor and an IDE, highlighting their key features and uses.\n",
        "\n",
        "   1.TEXT EDITORS:\n",
        "            \n",
        "        * Key Features:\n",
        "             > Basic text editing  capabilities.\n",
        "             > syntax highlighting for various programming languages.\n",
        "             > search and replace functionality.\n",
        "             > lightweight and fast.   \n",
        "        * Uses:\n",
        "             > Editing simple code files, configuration files, or plain text documents.\n",
        "             > It can be used to make small code changes quickly.\n",
        "        * Example:\n",
        "             > Notepad++\n",
        "             > sublime text\n",
        "   2.IDEs(Integrated Development Environments):\n",
        "        * Key Features:\n",
        "             > Code completion and intelligent suggestion.\n",
        "             > Debugging tools and profilers.\n",
        "             > Version control integration.\n",
        "             > Build Automation and testing tools.\n",
        "             > Database integration.\n",
        "        * Uses:\n",
        "             > Developing complex software applications.\n",
        "             > Debugging and testing code.\n",
        "             > Managing large projetcs with multiple files and dependencies.\n",
        "        * Example:\n",
        "             > Visual studio\n",
        "             > Pycharm\n",
        "\n",
        "\n",
        "\n",
        "            \n",
        "          \n"
      ],
      "metadata": {
        "id": "RypJECnlxjTE"
      }
    }
  ]
}